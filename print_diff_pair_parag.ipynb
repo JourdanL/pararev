{
 "cells": [
  {
   "cell_type": "code",
   "execution_count": 2,
   "id": "20f2335f-2d3e-45ba-8cc5-8c7363547581",
   "metadata": {},
   "outputs": [],
   "source": [
    "import os\n",
    "import json\n",
    "from termcolor import colored, cprint\n",
    "import difflib\n",
    "# initiate the Differ object\n",
    "d = difflib.Differ()"
   ]
  },
  {
   "cell_type": "code",
   "execution_count": 3,
   "id": "c40674a7-3953-41ec-b0ba-af6c847c6c0d",
   "metadata": {},
   "outputs": [],
   "source": [
    "def import_corpus(path,filename):\n",
    "    with open(path+filename, 'r') as corpus_file:\n",
    "        liste_paragraphs=[json.loads(line.strip('\\n')) for line in corpus_file]  \n",
    "    return liste_paragraphs        "
   ]
  },
  {
   "cell_type": "code",
   "execution_count": 11,
   "id": "d1f9305c-555e-4918-843c-e61bde6c26fb",
   "metadata": {},
   "outputs": [],
   "source": [
    "def coloration_diff(parag1,parag2):\n",
    "    list_parag1=[]\n",
    "    list_parag2=[]\n",
    "    diff = d.compare(parag1.split(), parag2.split())\n",
    "    equals,supprs,ajouts=0,0,0\n",
    "    for mot in diff:\n",
    "        res=mot.split()\n",
    "        if len(res)==1:\n",
    "            list_parag1.append((res[0], 'green'))\n",
    "            list_parag2.append((res[0], 'green'))\n",
    "        elif res[0]==\"+\":\n",
    "            list_parag2.append((res[1], 'blue'))\n",
    "        elif res[0]==\"-\":\n",
    "            list_parag1.append((res[1], 'cyan'))\n",
    "    print(\"Source version\")\n",
    "    for mot in list_parag1:\n",
    "        cprint(mot[0], mot[1],end=' ')\n",
    "    print(\"\\nRevised version\")\n",
    "    for mot in list_parag2:\n",
    "        cprint(mot[0], mot[1],end=' ')\n",
    "    print(\"\\n-----------------------------\\n\")\n",
    "    return(list_parag1,list_parag2)\n"
   ]
  },
  {
   "cell_type": "code",
   "execution_count": 12,
   "id": "5d579fe0-5e0b-4634-99e7-b9b4d7e3e1c9",
   "metadata": {},
   "outputs": [
    {
     "name": "stdout",
     "output_type": "stream",
     "text": [
      "dict_keys(['id_paragraph', 'parag_1', 'parag_2', 'annot_1', 'annot_2']) \n",
      "\n",
      "BxmIj0nw6E.ZMGk-Rx5Lm.00\n",
      "Source version\n",
      "\u001b[32mDiscussion\u001b[0m \u001b[32mon\u001b[0m \u001b[32mImprovements\u001b[0m \u001b[32m:\u001b[0m \u001b[36mWe\u001b[0m \u001b[32mevaluated\u001b[0m \u001b[32mour\u001b[0m \u001b[32mapproach\u001b[0m \u001b[32mby\u001b[0m \u001b[32musing\u001b[0m \u001b[32mmore\u001b[0m \u001b[32mindicator\u001b[0m \u001b[32mfunctions\u001b[0m \u001b[32m(i.e.,\u001b[0m \u001b[32mmore\u001b[0m \u001b[32mr\u001b[0m \u001b[32mi\u001b[0m \u001b[32m)\u001b[0m \u001b[32mand\u001b[0m \u001b[32mplotted\u001b[0m \u001b[32mthe\u001b[0m \u001b[32mresults\u001b[0m \u001b[32min\u001b[0m \u001b[32mFig.\u001b[0m \u001b[32mFrom\u001b[0m \u001b[32mthe\u001b[0m \u001b[32mfigure,\u001b[0m \u001b[32mthe\u001b[0m \u001b[32mperformance\u001b[0m \u001b[32mof\u001b[0m \u001b[32mour\u001b[0m \u001b[32mapproach\u001b[0m \u001b[32mincreases\u001b[0m \u001b[32mwith\u001b[0m \u001b[32mmore\u001b[0m \u001b[32mindicator\u001b[0m \u001b[32mfunctions\u001b[0m \u001b[32mbeing\u001b[0m \u001b[32mused\u001b[0m \u001b[32mand\u001b[0m \u001b[32meventually\u001b[0m \u001b[32mconverges.\u001b[0m \u001b[32mAdditionally,\u001b[0m \u001b[32mthe\u001b[0m \u001b[32mlimit\u001b[0m \u001b[32mfor\u001b[0m \u001b[32meach\u001b[0m \u001b[32mdataset\u001b[0m \u001b[32min\u001b[0m \u001b[32mFig.\u001b[0m \u001b[32m4\u001b[0m \u001b[32mis\u001b[0m \u001b[32mdetermined\u001b[0m \u001b[32mby\u001b[0m \u001b[32mthe\u001b[0m \u001b[32mform\u001b[0m \u001b[32mof\u001b[0m \u001b[32mutilized\u001b[0m \u001b[32mindicator\u001b[0m \u001b[32mfunctions,\u001b[0m \u001b[32mwhich\u001b[0m \u001b[32mis\u001b[0m \u001b[32mg\u001b[0m \u001b[32m(\u001b[0m \u001b[32mx\u001b[0m \u001b[32m)\u001b[0m \u001b[32m=\u001b[0m \u001b[32m{||\u001b[0m \u001b[32mx\u001b[0m \u001b[32m||\u001b[0m \u001b[32m≤\u001b[0m \u001b[32mr\u001b[0m \u001b[32m}\u001b[0m \u001b[32min\u001b[0m \u001b[32mthis\u001b[0m \u001b[32mwork.\u001b[0m \u001b[32mTo\u001b[0m \u001b[32mincrease\u001b[0m \u001b[32mthe\u001b[0m \u001b[32mlimit,\u001b[0m \u001b[32mmore\u001b[0m \u001b[32madvanced\u001b[0m \u001b[32mindicator\u001b[0m \u001b[32mfunctions\u001b[0m \u001b[32mare\u001b[0m \u001b[32mrequired,\u001b[0m \u001b[32mwhich\u001b[0m \u001b[32mis\u001b[0m \u001b[32mmentioned\u001b[0m \u001b[32min\u001b[0m \u001b[32mRemark\u001b[0m \u001b[32m3\u001b[0m \u001b[32mthat\u001b[0m \u001b[32mexploring\u001b[0m \u001b[32mother\u001b[0m \u001b[32mindicator\u001b[0m \u001b[32mfunctions\u001b[0m \u001b[32mwill\u001b[0m \u001b[32mbe\u001b[0m \u001b[32mour\u001b[0m \u001b[32mfuture\u001b[0m \u001b[32mworks.\u001b[0m \n",
      "Revised version\n",
      "\u001b[32mDiscussion\u001b[0m \u001b[32mon\u001b[0m \u001b[32mImprovements\u001b[0m \u001b[32m:\u001b[0m \u001b[34mAll\u001b[0m \u001b[34mthe\u001b[0m \u001b[34mexperiments\u001b[0m \u001b[34mused\u001b[0m \u001b[34mten\u001b[0m \u001b[34mindicator\u001b[0m \u001b[34mfunctions.\u001b[0m \u001b[34mHowever,\u001b[0m \u001b[34mwe\u001b[0m \u001b[34mhave\u001b[0m \u001b[32mevaluated\u001b[0m \u001b[32mour\u001b[0m \u001b[32mapproach\u001b[0m \u001b[32mby\u001b[0m \u001b[32musing\u001b[0m \u001b[32mmore\u001b[0m \u001b[32mindicator\u001b[0m \u001b[32mfunctions\u001b[0m \u001b[32m(i.e.,\u001b[0m \u001b[32mmore\u001b[0m \u001b[32mr\u001b[0m \u001b[32mi\u001b[0m \u001b[32m)\u001b[0m \u001b[32mand\u001b[0m \u001b[32mplotted\u001b[0m \u001b[32mthe\u001b[0m \u001b[32mresults\u001b[0m \u001b[32min\u001b[0m \u001b[32mFig.\u001b[0m \u001b[32mFrom\u001b[0m \u001b[32mthe\u001b[0m \u001b[32mfigure,\u001b[0m \u001b[32mthe\u001b[0m \u001b[32mperformance\u001b[0m \u001b[32mof\u001b[0m \u001b[32mour\u001b[0m \u001b[32mapproach\u001b[0m \u001b[32mincreases\u001b[0m \u001b[32mwith\u001b[0m \u001b[32mmore\u001b[0m \u001b[32mindicator\u001b[0m \u001b[32mfunctions\u001b[0m \u001b[32mbeing\u001b[0m \u001b[32mused\u001b[0m \u001b[32mand\u001b[0m \u001b[32meventually\u001b[0m \u001b[32mconverges.\u001b[0m \u001b[32mAdditionally,\u001b[0m \u001b[32mthe\u001b[0m \u001b[32mlimit\u001b[0m \u001b[32mfor\u001b[0m \u001b[32meach\u001b[0m \u001b[32mdataset\u001b[0m \u001b[32min\u001b[0m \u001b[32mFig.\u001b[0m \u001b[32m4\u001b[0m \u001b[32mis\u001b[0m \u001b[32mdetermined\u001b[0m \u001b[32mby\u001b[0m \u001b[32mthe\u001b[0m \u001b[32mform\u001b[0m \u001b[32mof\u001b[0m \u001b[32mutilized\u001b[0m \u001b[32mindicator\u001b[0m \u001b[32mfunctions,\u001b[0m \u001b[32mwhich\u001b[0m \u001b[32mis\u001b[0m \u001b[32mg\u001b[0m \u001b[32m(\u001b[0m \u001b[32mx\u001b[0m \u001b[32m)\u001b[0m \u001b[32m=\u001b[0m \u001b[32m{||\u001b[0m \u001b[32mx\u001b[0m \u001b[32m||\u001b[0m \u001b[32m≤\u001b[0m \u001b[32mr\u001b[0m \u001b[32m}\u001b[0m \u001b[32min\u001b[0m \u001b[32mthis\u001b[0m \u001b[32mwork.\u001b[0m \u001b[32mTo\u001b[0m \u001b[32mincrease\u001b[0m \u001b[32mthe\u001b[0m \u001b[32mlimit,\u001b[0m \u001b[32mmore\u001b[0m \u001b[32madvanced\u001b[0m \u001b[32mindicator\u001b[0m \u001b[32mfunctions\u001b[0m \u001b[32mare\u001b[0m \u001b[32mrequired,\u001b[0m \u001b[32mwhich\u001b[0m \u001b[32mis\u001b[0m \u001b[32mmentioned\u001b[0m \u001b[32min\u001b[0m \u001b[32mRemark\u001b[0m \u001b[32m3\u001b[0m \u001b[32mthat\u001b[0m \u001b[32mexploring\u001b[0m \u001b[32mother\u001b[0m \u001b[32mindicator\u001b[0m \u001b[32mfunctions\u001b[0m \u001b[32mwill\u001b[0m \u001b[32mbe\u001b[0m \u001b[32mour\u001b[0m \u001b[32mfuture\u001b[0m \u001b[32mworks.\u001b[0m \n",
      "-----------------------------\n",
      "\n",
      "ao24TOMZHY.i3w1gRPhug.00\n",
      "Source version\n",
      "\u001b[32mReinforcement\u001b[0m \u001b[32mlearning\u001b[0m \u001b[32m(RL)\u001b[0m \u001b[32maims\u001b[0m \u001b[32mto\u001b[0m \u001b[32msolve\u001b[0m \u001b[32msequential\u001b[0m \u001b[32mdecision\u001b[0m \u001b[32mproblems\u001b[0m \u001b[32mand\u001b[0m \u001b[32mhas\u001b[0m \u001b[32mreceived\u001b[0m \u001b[32mextensive\u001b[0m \u001b[32mattention\u001b[0m \u001b[32min\u001b[0m \u001b[32mrecent\u001b[0m \u001b[32myears\u001b[0m \u001b[32m(Mnih\u001b[0m \u001b[32met\u001b[0m \u001b[32mal.,\u001b[0m \u001b[32m2015).\u001b[0m \u001b[32mHowever,\u001b[0m \u001b[32mthe\u001b[0m \u001b[32mpractical\u001b[0m \u001b[32mapplications\u001b[0m \u001b[32mof\u001b[0m \u001b[32mRL\u001b[0m \u001b[32mmeet\u001b[0m \u001b[32mseveral\u001b[0m \u001b[32mchallenges,\u001b[0m \u001b[32msuch\u001b[0m \u001b[32mas\u001b[0m \u001b[32mrisky\u001b[0m \u001b[32mattempts\u001b[0m \u001b[32mduring\u001b[0m \u001b[36mexploration,\u001b[0m \u001b[32mtime-consuming\u001b[0m \u001b[32mdata\u001b[0m \u001b[32mcollecting\u001b[0m \u001b[36mphase\u001b[0m \u001b[36mand\u001b[0m \u001b[36mhigh\u001b[0m \u001b[36msample\u001b[0m \u001b[36mcomplexity.\u001b[0m \u001b[32mOffline\u001b[0m \u001b[32mRL\u001b[0m \u001b[32mis\u001b[0m \u001b[32mcapable\u001b[0m \u001b[32mof\u001b[0m \u001b[32mtackling\u001b[0m \u001b[32mthese\u001b[0m \u001b[32missues\u001b[0m \u001b[32mwithout\u001b[0m \u001b[32minteraction\u001b[0m \u001b[32mwith\u001b[0m \u001b[32mthe\u001b[0m \u001b[32menvironment.\u001b[0m \u001b[32mIt\u001b[0m \u001b[32mcan\u001b[0m \u001b[32mget\u001b[0m \u001b[32mrid\u001b[0m \u001b[32mof\u001b[0m \u001b[32munsafe\u001b[0m \u001b[32mexploration\u001b[0m \u001b[36mduring\u001b[0m \u001b[36mtraining\u001b[0m \u001b[32mand\u001b[0m \u001b[32mcould\u001b[0m \u001b[32mtap\u001b[0m \u001b[32minto\u001b[0m \u001b[32mexisting\u001b[0m \u001b[32mlarge-scale\u001b[0m \u001b[32mdatasets\u001b[0m \u001b[32m(Gulcehre\u001b[0m \u001b[32met\u001b[0m \u001b[32mal.,\u001b[0m \u001b[36m2020;\u001b[0m \u001b[36mFu\u001b[0m \u001b[36met\u001b[0m \u001b[36mal.,\u001b[0m \u001b[32m2020).\u001b[0m \n",
      "Revised version\n",
      "\u001b[32mReinforcement\u001b[0m \u001b[32mlearning\u001b[0m \u001b[32m(RL)\u001b[0m \u001b[32maims\u001b[0m \u001b[32mto\u001b[0m \u001b[32msolve\u001b[0m \u001b[32msequential\u001b[0m \u001b[32mdecision\u001b[0m \u001b[32mproblems\u001b[0m \u001b[32mand\u001b[0m \u001b[32mhas\u001b[0m \u001b[32mreceived\u001b[0m \u001b[32mextensive\u001b[0m \u001b[32mattention\u001b[0m \u001b[32min\u001b[0m \u001b[32mrecent\u001b[0m \u001b[32myears\u001b[0m \u001b[32m(Mnih\u001b[0m \u001b[32met\u001b[0m \u001b[32mal.,\u001b[0m \u001b[32m2015).\u001b[0m \u001b[32mHowever,\u001b[0m \u001b[32mthe\u001b[0m \u001b[32mpractical\u001b[0m \u001b[32mapplications\u001b[0m \u001b[32mof\u001b[0m \u001b[32mRL\u001b[0m \u001b[32mmeet\u001b[0m \u001b[32mseveral\u001b[0m \u001b[32mchallenges,\u001b[0m \u001b[32msuch\u001b[0m \u001b[32mas\u001b[0m \u001b[32mrisky\u001b[0m \u001b[32mattempts\u001b[0m \u001b[32mduring\u001b[0m \u001b[34mexploration\u001b[0m \u001b[34mand\u001b[0m \u001b[32mtime-consuming\u001b[0m \u001b[32mdata\u001b[0m \u001b[32mcollecting\u001b[0m \u001b[34mphase.\u001b[0m \u001b[32mOffline\u001b[0m \u001b[32mRL\u001b[0m \u001b[32mis\u001b[0m \u001b[32mcapable\u001b[0m \u001b[32mof\u001b[0m \u001b[32mtackling\u001b[0m \u001b[32mthese\u001b[0m \u001b[32missues\u001b[0m \u001b[32mwithout\u001b[0m \u001b[32minteraction\u001b[0m \u001b[32mwith\u001b[0m \u001b[32mthe\u001b[0m \u001b[32menvironment.\u001b[0m \u001b[32mIt\u001b[0m \u001b[32mcan\u001b[0m \u001b[32mget\u001b[0m \u001b[32mrid\u001b[0m \u001b[32mof\u001b[0m \u001b[32munsafe\u001b[0m \u001b[32mexploration\u001b[0m \u001b[32mand\u001b[0m \u001b[32mcould\u001b[0m \u001b[32mtap\u001b[0m \u001b[32minto\u001b[0m \u001b[32mexisting\u001b[0m \u001b[32mlarge-scale\u001b[0m \u001b[32mdatasets\u001b[0m \u001b[32m(Gulcehre\u001b[0m \u001b[32met\u001b[0m \u001b[32mal.,\u001b[0m \u001b[32m2020).\u001b[0m \n",
      "-----------------------------\n",
      "\n",
      "ao24TOMZHY.i3w1gRPhug.01\n",
      "Source version\n",
      "\u001b[32mGhasemipour\u001b[0m \u001b[32met\u001b[0m \u001b[32mal.,\u001b[0m \u001b[32m2021).\u001b[0m \u001b[32mHowever,\u001b[0m \u001b[32mit\u001b[0m \u001b[32msuffers\u001b[0m \u001b[32mfrom\u001b[0m \u001b[32mextrapolation\u001b[0m \u001b[32merror\u001b[0m \u001b[32mdue\u001b[0m \u001b[32mto\u001b[0m \u001b[32mOOD\u001b[0m \u001b[32mactions.\u001b[0m \u001b[32mSome\u001b[0m \u001b[32mworks\u001b[0m \u001b[32mattempt\u001b[0m \u001b[32mto\u001b[0m \u001b[32mpenalize\u001b[0m \u001b[32mthe\u001b[0m \u001b[32mQ-values\u001b[0m \u001b[32mof\u001b[0m \u001b[32mOOD\u001b[0m \u001b[32mactions\u001b[0m \u001b[32m(Kumar\u001b[0m \u001b[32met\u001b[0m \u001b[32mal.,\u001b[0m \u001b[32m2020;\u001b[0m \u001b[32mAn\u001b[0m \u001b[32met\u001b[0m \u001b[32mal.,\u001b[0m \u001b[32m2021).\u001b[0m \u001b[32mOther\u001b[0m \u001b[32mmethods\u001b[0m \u001b[32mforce\u001b[0m \u001b[32mthe\u001b[0m \u001b[32mtrained\u001b[0m \u001b[32mpolicy\u001b[0m \u001b[32mto\u001b[0m \u001b[32mbe\u001b[0m \u001b[32mclose\u001b[0m \u001b[32mto\u001b[0m \u001b[32mthe\u001b[0m \u001b[32mbehavior\u001b[0m \u001b[32mpolicy\u001b[0m \u001b[32mby\u001b[0m \u001b[32mKL\u001b[0m \u001b[32mdivergence\u001b[0m \u001b[32m(Wu\u001b[0m \u001b[32met\u001b[0m \u001b[32mal.,\u001b[0m \u001b[32m2019),\u001b[0m \u001b[32mbehavior\u001b[0m \u001b[32mcloning\u001b[0m \u001b[32m(Fujimoto\u001b[0m \u001b[32m&\u001b[0m \u001b[32mGu,\u001b[0m \u001b[32m2021),\u001b[0m \u001b[32mor\u001b[0m \u001b[32mMaximum\u001b[0m \u001b[32mMean\u001b[0m \u001b[32mDiscrepancy(MMD)\u001b[0m \u001b[32m(Kumar\u001b[0m \u001b[32met\u001b[0m \u001b[32mal.,\u001b[0m \u001b[32m2019).\u001b[0m \u001b[32mThese\u001b[0m \u001b[32mmethods\u001b[0m \u001b[32mcannot\u001b[0m \u001b[32meliminate\u001b[0m \u001b[32mextrapolation\u001b[0m \u001b[32merror\u001b[0m \u001b[32mand\u001b[0m \u001b[32mrequire\u001b[0m \u001b[32ma\u001b[0m \u001b[32mregularization\u001b[0m \u001b[32mhyperparameter\u001b[0m \u001b[32mto\u001b[0m \u001b[32mcontrol\u001b[0m \u001b[32mthe\u001b[0m \u001b[32mconstraint\u001b[0m \u001b[32mlevel\u001b[0m \u001b[32mto\u001b[0m \u001b[32mbalance\u001b[0m \u001b[32mpessimism\u001b[0m \u001b[32mand\u001b[0m \u001b[32mgeneralization.\u001b[0m \u001b[36mIn\u001b[0m \u001b[36maddition,\u001b[0m \u001b[36mthey\u001b[0m \u001b[36mdefine\u001b[0m \u001b[36mdistances\u001b[0m \u001b[36mimplicitly\u001b[0m \u001b[36mor\u001b[0m \u001b[36mexplicitly\u001b[0m \u001b[36mto\u001b[0m \u001b[36mmeasure\u001b[0m \u001b[36mthe\u001b[0m \u001b[36mtrained\u001b[0m \u001b[36mpolicy’s\u001b[0m \u001b[36mcloseness\u001b[0m \u001b[36mto\u001b[0m \u001b[36mthe\u001b[0m \u001b[36mbehavior\u001b[0m \u001b[36mpolicy.\u001b[0m \u001b[36mIt\u001b[0m \u001b[36mis\u001b[0m \u001b[36mstill\u001b[0m \u001b[36mchallenging\u001b[0m \u001b[36mto\u001b[0m \u001b[36mdetermine\u001b[0m \u001b[36mwhich\u001b[0m \u001b[36mmeasurement\u001b[0m \u001b[36mmatches\u001b[0m \u001b[36moffline\u001b[0m \u001b[36mRL\u001b[0m \u001b[36mbest.\u001b[0m \u001b[32mAnother\u001b[0m \u001b[32mbranch\u001b[0m \u001b[32mchooses\u001b[0m \u001b[32mto\u001b[0m \u001b[32monly\u001b[0m \u001b[32mrefer\u001b[0m \u001b[32mto\u001b[0m \u001b[32mthe\u001b[0m \u001b[32mQ-values\u001b[0m \u001b[32mof\u001b[0m \u001b[32min-sample\u001b[0m \u001b[32mactions\u001b[0m \u001b[32mwhen\u001b[0m \u001b[32mformulating\u001b[0m \u001b[32mthe\u001b[0m \u001b[32mBellman\u001b[0m \u001b[32mtarget\u001b[0m \u001b[32mwithout\u001b[0m \u001b[32mquerying\u001b[0m \u001b[32mthe\u001b[0m \u001b[32mvalues\u001b[0m \u001b[32mof\u001b[0m \u001b[32mactions\u001b[0m \u001b[32mnot\u001b[0m \u001b[32mcontained\u001b[0m \u001b[32min\u001b[0m \u001b[32mthe\u001b[0m \u001b[32mdataset\u001b[0m \u001b[32m(Brandfonbrener\u001b[0m \u001b[32met\u001b[0m \u001b[32mal.,\u001b[0m \u001b[32m2021;\u001b[0m \n",
      "Revised version\n",
      "\u001b[32mGhasemipour\u001b[0m \u001b[32met\u001b[0m \u001b[32mal.,\u001b[0m \u001b[32m2021).\u001b[0m \u001b[32mHowever,\u001b[0m \u001b[32mit\u001b[0m \u001b[32msuffers\u001b[0m \u001b[32mfrom\u001b[0m \u001b[32mextrapolation\u001b[0m \u001b[32merror\u001b[0m \u001b[32mdue\u001b[0m \u001b[32mto\u001b[0m \u001b[32mOOD\u001b[0m \u001b[32mactions.\u001b[0m \u001b[32mSome\u001b[0m \u001b[32mworks\u001b[0m \u001b[32mattempt\u001b[0m \u001b[32mto\u001b[0m \u001b[32mpenalize\u001b[0m \u001b[32mthe\u001b[0m \u001b[32mQ-values\u001b[0m \u001b[32mof\u001b[0m \u001b[32mOOD\u001b[0m \u001b[32mactions\u001b[0m \u001b[32m(Kumar\u001b[0m \u001b[32met\u001b[0m \u001b[32mal.,\u001b[0m \u001b[32m2020;\u001b[0m \u001b[32mAn\u001b[0m \u001b[32met\u001b[0m \u001b[32mal.,\u001b[0m \u001b[32m2021).\u001b[0m \u001b[32mOther\u001b[0m \u001b[32mmethods\u001b[0m \u001b[32mforce\u001b[0m \u001b[32mthe\u001b[0m \u001b[32mtrained\u001b[0m \u001b[32mpolicy\u001b[0m \u001b[32mto\u001b[0m \u001b[32mbe\u001b[0m \u001b[32mclose\u001b[0m \u001b[32mto\u001b[0m \u001b[32mthe\u001b[0m \u001b[32mbehavior\u001b[0m \u001b[32mpolicy\u001b[0m \u001b[32mby\u001b[0m \u001b[32mKL\u001b[0m \u001b[32mdivergence\u001b[0m \u001b[32m(Wu\u001b[0m \u001b[32met\u001b[0m \u001b[32mal.,\u001b[0m \u001b[32m2019),\u001b[0m \u001b[32mbehavior\u001b[0m \u001b[32mcloning\u001b[0m \u001b[32m(Fujimoto\u001b[0m \u001b[32m&\u001b[0m \u001b[32mGu,\u001b[0m \u001b[32m2021),\u001b[0m \u001b[32mor\u001b[0m \u001b[32mMaximum\u001b[0m \u001b[32mMean\u001b[0m \u001b[32mDiscrepancy(MMD)\u001b[0m \u001b[32m(Kumar\u001b[0m \u001b[32met\u001b[0m \u001b[32mal.,\u001b[0m \u001b[32m2019).\u001b[0m \u001b[32mThese\u001b[0m \u001b[32mmethods\u001b[0m \u001b[32mcannot\u001b[0m \u001b[32meliminate\u001b[0m \u001b[32mextrapolation\u001b[0m \u001b[32merror\u001b[0m \u001b[32mand\u001b[0m \u001b[32mrequire\u001b[0m \u001b[32ma\u001b[0m \u001b[32mregularization\u001b[0m \u001b[32mhyperparameter\u001b[0m \u001b[32mto\u001b[0m \u001b[32mcontrol\u001b[0m \u001b[32mthe\u001b[0m \u001b[32mconstraint\u001b[0m \u001b[32mlevel\u001b[0m \u001b[32mto\u001b[0m \u001b[32mbalance\u001b[0m \u001b[32mpessimism\u001b[0m \u001b[32mand\u001b[0m \u001b[32mgeneralization.\u001b[0m \u001b[32mAnother\u001b[0m \u001b[32mbranch\u001b[0m \u001b[32mchooses\u001b[0m \u001b[32mto\u001b[0m \u001b[32monly\u001b[0m \u001b[32mrefer\u001b[0m \u001b[32mto\u001b[0m \u001b[32mthe\u001b[0m \u001b[32mQ-values\u001b[0m \u001b[32mof\u001b[0m \u001b[32min-sample\u001b[0m \u001b[32mactions\u001b[0m \u001b[32mwhen\u001b[0m \u001b[32mformulating\u001b[0m \u001b[32mthe\u001b[0m \u001b[32mBellman\u001b[0m \u001b[32mtarget\u001b[0m \u001b[32mwithout\u001b[0m \u001b[32mquerying\u001b[0m \u001b[32mthe\u001b[0m \u001b[32mvalues\u001b[0m \u001b[32mof\u001b[0m \u001b[32mactions\u001b[0m \u001b[32mnot\u001b[0m \u001b[32mcontained\u001b[0m \u001b[32min\u001b[0m \u001b[32mthe\u001b[0m \u001b[32mdataset\u001b[0m \u001b[32m(Brandfonbrener\u001b[0m \u001b[32met\u001b[0m \u001b[32mal.,\u001b[0m \u001b[32m2021;\u001b[0m \n",
      "-----------------------------\n",
      "\n",
      "YrJvprgJOB.YiJLxDsi4n.00\n",
      "Source version\n",
      "\u001b[32mRemarks.\u001b[0m \u001b[32mTheorem\u001b[0m \u001b[32m1\u001b[0m \u001b[32mholds\u001b[0m \u001b[32mfor\u001b[0m \u001b[36mall\u001b[0m \u001b[36mand\u001b[0m \u001b[36mpossibly\u001b[0m \u001b[32mdifferent\u001b[0m \u001b[32mlengths\u001b[0m \u001b[36mof\u001b[0m \u001b[36mthe\u001b[0m \u001b[36mtwo\u001b[0m \u001b[36mdata\u001b[0m \u001b[36msequences.\u001b[0m \u001b[32mThis\u001b[0m \u001b[32mhighlights\u001b[0m \u001b[32mthe\u001b[0m \u001b[32mRNTK’s\u001b[0m \u001b[32mability\u001b[0m \u001b[32mto\u001b[0m \u001b[32mproduce\u001b[0m \u001b[32ma\u001b[0m \u001b[32msimilarity\u001b[0m \u001b[32mmeasure\u001b[0m \u001b[32mΘ(\u001b[0m \u001b[32mx\u001b[0m \u001b[32m,\u001b[0m \u001b[32mx\u001b[0m \u001b[32m(cid:48)\u001b[0m \u001b[32m)\u001b[0m \u001b[32meven\u001b[0m \u001b[32mif\u001b[0m \u001b[32mthe\u001b[0m \u001b[32minputs\u001b[0m \u001b[32mare\u001b[0m \u001b[32mof\u001b[0m \u001b[32mdifferent\u001b[0m \u001b[32mlengths,\u001b[0m \u001b[32mwithout\u001b[0m \u001b[32mresorting\u001b[0m \u001b[32mto\u001b[0m \u001b[36mad\u001b[0m \u001b[36mhockery\u001b[0m \u001b[32msuch\u001b[0m \u001b[32mas\u001b[0m \u001b[32mzero\u001b[0m \u001b[32mpadding\u001b[0m \u001b[32mthe\u001b[0m \u001b[32minputs\u001b[0m \u001b[32mto\u001b[0m \u001b[32mthe\u001b[0m \u001b[36msame\u001b[0m \u001b[36mlength.\u001b[0m \u001b[32mDealing\u001b[0m \u001b[32mwith\u001b[0m \u001b[32mdata\u001b[0m \u001b[32mof\u001b[0m \u001b[32mdifferent\u001b[0m \u001b[32mlength\u001b[0m \u001b[32mis\u001b[0m \u001b[32min\u001b[0m \u001b[32msharp\u001b[0m \u001b[32mcontrast\u001b[0m \u001b[32mto\u001b[0m \u001b[32mcommon\u001b[0m \u001b[32mkernels\u001b[0m \u001b[32msuch\u001b[0m \u001b[32mas\u001b[0m \u001b[32mthe\u001b[0m \u001b[32mclassical\u001b[0m \u001b[32mradial\u001b[0m \u001b[32mbasis\u001b[0m \u001b[36mfunction\u001b[0m \u001b[32mand\u001b[0m \u001b[36mpolynomial\u001b[0m \u001b[36mkernels\u001b[0m \u001b[36mand\u001b[0m \u001b[36mthe\u001b[0m \u001b[32mcurrent\u001b[0m \u001b[32mNTKs.\u001b[0m \u001b[32mWe\u001b[0m \u001b[32mshowcase\u001b[0m \u001b[32mthis\u001b[0m \u001b[32mcapability\u001b[0m \u001b[32mbelow\u001b[0m \u001b[32min\u001b[0m \u001b[32mSection\u001b[0m \u001b[32m4.\u001b[0m \n",
      "Revised version\n",
      "\u001b[32mRemarks.\u001b[0m \u001b[32mTheorem\u001b[0m \u001b[32m1\u001b[0m \u001b[32mholds\u001b[0m \u001b[34mgenerally\u001b[0m \u001b[32mfor\u001b[0m \u001b[34many\u001b[0m \u001b[34mtwo\u001b[0m \u001b[34mdata\u001b[0m \u001b[34msequences,\u001b[0m \u001b[34mincluding\u001b[0m \u001b[32mdifferent\u001b[0m \u001b[32mlengths\u001b[0m \u001b[34mones.\u001b[0m \u001b[32mThis\u001b[0m \u001b[32mhighlights\u001b[0m \u001b[32mthe\u001b[0m \u001b[32mRNTK’s\u001b[0m \u001b[32mability\u001b[0m \u001b[32mto\u001b[0m \u001b[32mproduce\u001b[0m \u001b[32ma\u001b[0m \u001b[32msimilarity\u001b[0m \u001b[32mmeasure\u001b[0m \u001b[32mΘ(\u001b[0m \u001b[32mx\u001b[0m \u001b[32m,\u001b[0m \u001b[32mx\u001b[0m \u001b[32m(cid:48)\u001b[0m \u001b[32m)\u001b[0m \u001b[32meven\u001b[0m \u001b[32mif\u001b[0m \u001b[32mthe\u001b[0m \u001b[32minputs\u001b[0m \u001b[32mare\u001b[0m \u001b[32mof\u001b[0m \u001b[32mdifferent\u001b[0m \u001b[32mlengths,\u001b[0m \u001b[32mwithout\u001b[0m \u001b[32mresorting\u001b[0m \u001b[32mto\u001b[0m \u001b[34mheuristics\u001b[0m \u001b[32msuch\u001b[0m \u001b[32mas\u001b[0m \u001b[32mzero\u001b[0m \u001b[32mpadding\u001b[0m \u001b[32mthe\u001b[0m \u001b[32minputs\u001b[0m \u001b[32mto\u001b[0m \u001b[32mthe\u001b[0m \u001b[34mto\u001b[0m \u001b[34mthe\u001b[0m \u001b[34mmax\u001b[0m \u001b[34mlength\u001b[0m \u001b[34mof\u001b[0m \u001b[34mboth\u001b[0m \u001b[34msequences.\u001b[0m \u001b[32mDealing\u001b[0m \u001b[32mwith\u001b[0m \u001b[32mdata\u001b[0m \u001b[32mof\u001b[0m \u001b[32mdifferent\u001b[0m \u001b[32mlength\u001b[0m \u001b[32mis\u001b[0m \u001b[32min\u001b[0m \u001b[32msharp\u001b[0m \u001b[32mcontrast\u001b[0m \u001b[32mto\u001b[0m \u001b[32mcommon\u001b[0m \u001b[32mkernels\u001b[0m \u001b[32msuch\u001b[0m \u001b[32mas\u001b[0m \u001b[32mthe\u001b[0m \u001b[32mclassical\u001b[0m \u001b[32mradial\u001b[0m \u001b[32mbasis\u001b[0m \u001b[34mfunctions,\u001b[0m \u001b[34mpolynomial\u001b[0m \u001b[34mkernels,\u001b[0m \u001b[32mand\u001b[0m \u001b[32mcurrent\u001b[0m \u001b[32mNTKs.\u001b[0m \u001b[32mWe\u001b[0m \u001b[32mshowcase\u001b[0m \u001b[32mthis\u001b[0m \u001b[32mcapability\u001b[0m \u001b[32mbelow\u001b[0m \u001b[32min\u001b[0m \u001b[32mSection\u001b[0m \u001b[32m4.\u001b[0m \n",
      "-----------------------------\n",
      "\n",
      "J05LrUaunL.G5IzR7XI7.00\n",
      "Source version\n",
      "\u001b[32mSimultaneously\u001b[0m \u001b[32mmatching\u001b[0m \u001b[32mthe\u001b[0m \u001b[32mbest\u001b[0m \u001b[32mmodel\u001b[0m \u001b[32mon\u001b[0m \u001b[32mclassification\u001b[0m \u001b[32maccuracy\u001b[0m \u001b[32mand\u001b[0m \u001b[32machieving\u001b[0m \u001b[32mperfect\u001b[0m \u001b[32mapproximation\u001b[0m \u001b[32mof\u001b[0m \u001b[32mhuman\u001b[0m \u001b[32msimilarity\u001b[0m \u001b[32mmight\u001b[0m \u001b[32mnot\u001b[0m \u001b[32mbe\u001b[0m \u001b[32mpossible,\u001b[0m \u001b[32mbut\u001b[0m \u001b[32mwe\u001b[0m \u001b[32mhypothesize\u001b[0m \u001b[32mthat\u001b[0m \u001b[32ma\u001b[0m \u001b[32mgood\u001b[0m \u001b[32mtrade-off\u001b[0m \u001b[32mbetween\u001b[0m \u001b[32mthe\u001b[0m \u001b[32mtwo\u001b[0m \u001b[32mwould\u001b[0m \u001b[32mbenefit\u001b[0m \u001b[32mdecision\u001b[0m \u001b[32msupport.\u001b[0m \u001b[32mWe\u001b[0m \u001b[32mpropose\u001b[0m \u001b[32ma\u001b[0m \u001b[32mnovel\u001b[0m \u001b[32mmulti-task\u001b[0m \u001b[32mlearning\u001b[0m \u001b[32mmethod\u001b[0m \u001b[32mthat\u001b[0m \u001b[32mcombines\u001b[0m \u001b[32msupervised\u001b[0m \u001b[32mlearning\u001b[0m \u001b[32mand\u001b[0m \u001b[32mmetric\u001b[0m \u001b[32mlearning.\u001b[0m \u001b[32mWe\u001b[0m \u001b[32msupplement\u001b[0m \u001b[32mthe\u001b[0m \u001b[32mstandard\u001b[0m \u001b[32mmaximum\u001b[0m \u001b[32mlikelihood\u001b[0m \u001b[32mobjective\u001b[0m \u001b[32mwith\u001b[0m \u001b[32ma\u001b[0m \u001b[32mloss\u001b[0m \u001b[32mfunction\u001b[0m \u001b[32mfrom\u001b[0m \u001b[32mBalntas\u001b[0m \u001b[32met\u001b[0m \u001b[32mal.\u001b[0m \u001b[36mbased\u001b[0m \u001b[36mon\u001b[0m \u001b[32mhuman\u001b[0m \u001b[36mannotation\u001b[0m \u001b[32mof\u001b[0m \u001b[32mtriplet\u001b[0m \u001b[36mjudgments:\u001b[0m \u001b[36mchoosing\u001b[0m \u001b[36mwhich\u001b[0m \u001b[36mof\u001b[0m \u001b[36mthe\u001b[0m \u001b[36mtwo\u001b[0m \u001b[36mcandidates\u001b[0m \u001b[36mis\u001b[0m \u001b[36mmore\u001b[0m \u001b[36msimilar\u001b[0m \u001b[36mto\u001b[0m \u001b[36ma\u001b[0m \u001b[36mreference.\u001b[0m \n",
      "Revised version\n",
      "\u001b[32mSimultaneously\u001b[0m \u001b[32mmatching\u001b[0m \u001b[32mthe\u001b[0m \u001b[32mbest\u001b[0m \u001b[32mmodel\u001b[0m \u001b[32mon\u001b[0m \u001b[32mclassification\u001b[0m \u001b[32maccuracy\u001b[0m \u001b[32mand\u001b[0m \u001b[32machieving\u001b[0m \u001b[32mperfect\u001b[0m \u001b[32mapproximation\u001b[0m \u001b[32mof\u001b[0m \u001b[32mhuman\u001b[0m \u001b[32msimilarity\u001b[0m \u001b[32mmight\u001b[0m \u001b[32mnot\u001b[0m \u001b[32mbe\u001b[0m \u001b[32mpossible,\u001b[0m \u001b[32mbut\u001b[0m \u001b[32mwe\u001b[0m \u001b[32mhypothesize\u001b[0m \u001b[32mthat\u001b[0m \u001b[32ma\u001b[0m \u001b[32mgood\u001b[0m \u001b[32mtrade-off\u001b[0m \u001b[32mbetween\u001b[0m \u001b[32mthe\u001b[0m \u001b[32mtwo\u001b[0m \u001b[32mwould\u001b[0m \u001b[32mbenefit\u001b[0m \u001b[32mdecision\u001b[0m \u001b[32msupport.\u001b[0m \u001b[32mWe\u001b[0m \u001b[32mpropose\u001b[0m \u001b[32ma\u001b[0m \u001b[32mnovel\u001b[0m \u001b[32mmulti-task\u001b[0m \u001b[32mlearning\u001b[0m \u001b[32mmethod\u001b[0m \u001b[32mthat\u001b[0m \u001b[32mcombines\u001b[0m \u001b[32msupervised\u001b[0m \u001b[32mlearning\u001b[0m \u001b[32mand\u001b[0m \u001b[32mmetric\u001b[0m \u001b[32mlearning.\u001b[0m \u001b[32mWe\u001b[0m \u001b[32msupplement\u001b[0m \u001b[32mthe\u001b[0m \u001b[32mstandard\u001b[0m \u001b[32mmaximum\u001b[0m \u001b[32mlikelihood\u001b[0m \u001b[32mobjective\u001b[0m \u001b[32mwith\u001b[0m \u001b[32ma\u001b[0m \u001b[32mloss\u001b[0m \u001b[32mfunction\u001b[0m \u001b[32mfrom\u001b[0m \u001b[32mBalntas\u001b[0m \u001b[32met\u001b[0m \u001b[32mal.\u001b[0m \u001b[34mOur\u001b[0m \u001b[34mmethod\u001b[0m \u001b[34mlearns\u001b[0m \u001b[34mfrom\u001b[0m \u001b[32mhuman\u001b[0m \u001b[34mannotations\u001b[0m \u001b[32mof\u001b[0m \u001b[34msimilarity\u001b[0m \u001b[34mjudgments\u001b[0m \u001b[34mamong\u001b[0m \u001b[34mdata\u001b[0m \u001b[34minstances\u001b[0m \u001b[34min\u001b[0m \u001b[34mthe\u001b[0m \u001b[32mtriplet\u001b[0m \u001b[34mform.\u001b[0m \n",
      "-----------------------------\n",
      "\n"
     ]
    }
   ],
   "source": [
    "pararev_full=import_corpus(\"\",\"pararev_full_without_annotation.jsonl\")\n",
    "pararev_annot=import_corpus(\"\",\"pararev_manual_annot_subset.jsonl\")\n",
    "\n",
    "print(pararev_annot[0].keys(),\"\\n\")\n",
    "      \n",
    "for parag in pararev_full[:5]:\n",
    "    print(parag[\"id_paragraph\"])\n",
    "    coloration_diff(parag[\"parag-1\"],parag[\"parag-2\"])"
   ]
  }
 ],
 "metadata": {
  "kernelspec": {
   "display_name": "Python 3 (ipykernel)",
   "language": "python",
   "name": "python3"
  },
  "language_info": {
   "codemirror_mode": {
    "name": "ipython",
    "version": 3
   },
   "file_extension": ".py",
   "mimetype": "text/x-python",
   "name": "python",
   "nbconvert_exporter": "python",
   "pygments_lexer": "ipython3",
   "version": "3.11.3"
  }
 },
 "nbformat": 4,
 "nbformat_minor": 5
}
